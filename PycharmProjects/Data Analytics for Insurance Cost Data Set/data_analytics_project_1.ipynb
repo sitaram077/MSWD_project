{
 "cells": [
  {
   "cell_type": "markdown",
   "source": [
    "## Loading the dataset and libraries "
   ],
   "metadata": {
    "collapsed": false
   },
   "id": "e164f83a599c5a5a"
  },
  {
   "cell_type": "code",
   "execution_count": 63,
   "id": "initial_id",
   "metadata": {
    "collapsed": true,
    "ExecuteTime": {
     "end_time": "2024-04-04T05:59:29.166945Z",
     "start_time": "2024-04-04T05:59:29.125410Z"
    }
   },
   "outputs": [],
   "source": [
    "import pandas as pd \n",
    "import numpy as np \n",
    "import matplotlib.pyplot as plt\n",
    "import seaborn as sns\n",
    "from sklearn.linear_model import LinearRegression,Ridge\n",
    "from sklearn.preprocessing import StandardScaler, PolynomialFeatures\n"
   ]
  },
  {
   "cell_type": "code",
   "outputs": [],
   "source": [
    "path = 'https://cf-courses-data.s3.us.cloud-object-storage.appdomain.cloud/IBMDeveloperSkillsNetwork-DA0101EN-Coursera/medical_insurance_dataset.csv'"
   ],
   "metadata": {
    "collapsed": false,
    "ExecuteTime": {
     "end_time": "2024-04-04T04:33:03.346019Z",
     "start_time": "2024-04-04T04:33:03.341500Z"
    }
   },
   "id": "9effc246e76fd2a1",
   "execution_count": 2
  },
  {
   "cell_type": "code",
   "outputs": [
    {
     "data": {
      "text/plain": "   19  1    27.9  0 1.1  3    16884.924\n0  18  2  33.770  1   0  4   1725.55230\n1  28  2  33.000  3   0  4   4449.46200\n2  33  2  22.705  0   0  1  21984.47061\n3  32  2  28.880  0   0  1   3866.85520\n4  31  1  25.740  0   ?  4   3756.62160\n5  46  1  33.440  1   0  4   8240.58960\n6  37  1  27.740  3   0  1   7281.50560\n7  37  2  29.830  2   0  2   6406.41070\n8  60  1  25.840  0   0  1  28923.13692\n9  25  2  26.220  0   0  2   2721.32080",
      "text/html": "<div>\n<style scoped>\n    .dataframe tbody tr th:only-of-type {\n        vertical-align: middle;\n    }\n\n    .dataframe tbody tr th {\n        vertical-align: top;\n    }\n\n    .dataframe thead th {\n        text-align: right;\n    }\n</style>\n<table border=\"1\" class=\"dataframe\">\n  <thead>\n    <tr style=\"text-align: right;\">\n      <th></th>\n      <th>19</th>\n      <th>1</th>\n      <th>27.9</th>\n      <th>0</th>\n      <th>1.1</th>\n      <th>3</th>\n      <th>16884.924</th>\n    </tr>\n  </thead>\n  <tbody>\n    <tr>\n      <th>0</th>\n      <td>18</td>\n      <td>2</td>\n      <td>33.770</td>\n      <td>1</td>\n      <td>0</td>\n      <td>4</td>\n      <td>1725.55230</td>\n    </tr>\n    <tr>\n      <th>1</th>\n      <td>28</td>\n      <td>2</td>\n      <td>33.000</td>\n      <td>3</td>\n      <td>0</td>\n      <td>4</td>\n      <td>4449.46200</td>\n    </tr>\n    <tr>\n      <th>2</th>\n      <td>33</td>\n      <td>2</td>\n      <td>22.705</td>\n      <td>0</td>\n      <td>0</td>\n      <td>1</td>\n      <td>21984.47061</td>\n    </tr>\n    <tr>\n      <th>3</th>\n      <td>32</td>\n      <td>2</td>\n      <td>28.880</td>\n      <td>0</td>\n      <td>0</td>\n      <td>1</td>\n      <td>3866.85520</td>\n    </tr>\n    <tr>\n      <th>4</th>\n      <td>31</td>\n      <td>1</td>\n      <td>25.740</td>\n      <td>0</td>\n      <td>?</td>\n      <td>4</td>\n      <td>3756.62160</td>\n    </tr>\n    <tr>\n      <th>5</th>\n      <td>46</td>\n      <td>1</td>\n      <td>33.440</td>\n      <td>1</td>\n      <td>0</td>\n      <td>4</td>\n      <td>8240.58960</td>\n    </tr>\n    <tr>\n      <th>6</th>\n      <td>37</td>\n      <td>1</td>\n      <td>27.740</td>\n      <td>3</td>\n      <td>0</td>\n      <td>1</td>\n      <td>7281.50560</td>\n    </tr>\n    <tr>\n      <th>7</th>\n      <td>37</td>\n      <td>2</td>\n      <td>29.830</td>\n      <td>2</td>\n      <td>0</td>\n      <td>2</td>\n      <td>6406.41070</td>\n    </tr>\n    <tr>\n      <th>8</th>\n      <td>60</td>\n      <td>1</td>\n      <td>25.840</td>\n      <td>0</td>\n      <td>0</td>\n      <td>1</td>\n      <td>28923.13692</td>\n    </tr>\n    <tr>\n      <th>9</th>\n      <td>25</td>\n      <td>2</td>\n      <td>26.220</td>\n      <td>0</td>\n      <td>0</td>\n      <td>2</td>\n      <td>2721.32080</td>\n    </tr>\n  </tbody>\n</table>\n</div>"
     },
     "execution_count": 4,
     "metadata": {},
     "output_type": "execute_result"
    }
   ],
   "source": [
    "df=pd.read_csv(path)\n",
    "df.head(10)"
   ],
   "metadata": {
    "collapsed": false,
    "ExecuteTime": {
     "end_time": "2024-04-04T04:33:50.525760Z",
     "start_time": "2024-04-04T04:33:48.568190Z"
    }
   },
   "id": "feb8e2c3c4dbcb7d",
   "execution_count": 4
  },
  {
   "cell_type": "code",
   "outputs": [
    {
     "data": {
      "text/plain": "     age  gender     bmi  no_of_children smoker  region      charges\n0     18       2  33.770               1      0       4   1725.55230\n1     28       2  33.000               3      0       4   4449.46200\n2     33       2  22.705               0      0       1  21984.47061\n3     32       2  28.880               0      0       1   3866.85520\n4     31       1  25.740               0      ?       4   3756.62160\n...   ..     ...     ...             ...    ...     ...          ...\n2766  47       1  45.320               1      0       4   8569.86180\n2767  21       1  34.600               0      0       3   2020.17700\n2768  19       2  26.030               1      1       1  16450.89470\n2769  23       2  18.715               0      0       1  21595.38229\n2770  54       2  31.600               0      0       3   9850.43200\n\n[2771 rows x 7 columns]",
      "text/html": "<div>\n<style scoped>\n    .dataframe tbody tr th:only-of-type {\n        vertical-align: middle;\n    }\n\n    .dataframe tbody tr th {\n        vertical-align: top;\n    }\n\n    .dataframe thead th {\n        text-align: right;\n    }\n</style>\n<table border=\"1\" class=\"dataframe\">\n  <thead>\n    <tr style=\"text-align: right;\">\n      <th></th>\n      <th>age</th>\n      <th>gender</th>\n      <th>bmi</th>\n      <th>no_of_children</th>\n      <th>smoker</th>\n      <th>region</th>\n      <th>charges</th>\n    </tr>\n  </thead>\n  <tbody>\n    <tr>\n      <th>0</th>\n      <td>18</td>\n      <td>2</td>\n      <td>33.770</td>\n      <td>1</td>\n      <td>0</td>\n      <td>4</td>\n      <td>1725.55230</td>\n    </tr>\n    <tr>\n      <th>1</th>\n      <td>28</td>\n      <td>2</td>\n      <td>33.000</td>\n      <td>3</td>\n      <td>0</td>\n      <td>4</td>\n      <td>4449.46200</td>\n    </tr>\n    <tr>\n      <th>2</th>\n      <td>33</td>\n      <td>2</td>\n      <td>22.705</td>\n      <td>0</td>\n      <td>0</td>\n      <td>1</td>\n      <td>21984.47061</td>\n    </tr>\n    <tr>\n      <th>3</th>\n      <td>32</td>\n      <td>2</td>\n      <td>28.880</td>\n      <td>0</td>\n      <td>0</td>\n      <td>1</td>\n      <td>3866.85520</td>\n    </tr>\n    <tr>\n      <th>4</th>\n      <td>31</td>\n      <td>1</td>\n      <td>25.740</td>\n      <td>0</td>\n      <td>?</td>\n      <td>4</td>\n      <td>3756.62160</td>\n    </tr>\n    <tr>\n      <th>...</th>\n      <td>...</td>\n      <td>...</td>\n      <td>...</td>\n      <td>...</td>\n      <td>...</td>\n      <td>...</td>\n      <td>...</td>\n    </tr>\n    <tr>\n      <th>2766</th>\n      <td>47</td>\n      <td>1</td>\n      <td>45.320</td>\n      <td>1</td>\n      <td>0</td>\n      <td>4</td>\n      <td>8569.86180</td>\n    </tr>\n    <tr>\n      <th>2767</th>\n      <td>21</td>\n      <td>1</td>\n      <td>34.600</td>\n      <td>0</td>\n      <td>0</td>\n      <td>3</td>\n      <td>2020.17700</td>\n    </tr>\n    <tr>\n      <th>2768</th>\n      <td>19</td>\n      <td>2</td>\n      <td>26.030</td>\n      <td>1</td>\n      <td>1</td>\n      <td>1</td>\n      <td>16450.89470</td>\n    </tr>\n    <tr>\n      <th>2769</th>\n      <td>23</td>\n      <td>2</td>\n      <td>18.715</td>\n      <td>0</td>\n      <td>0</td>\n      <td>1</td>\n      <td>21595.38229</td>\n    </tr>\n    <tr>\n      <th>2770</th>\n      <td>54</td>\n      <td>2</td>\n      <td>31.600</td>\n      <td>0</td>\n      <td>0</td>\n      <td>3</td>\n      <td>9850.43200</td>\n    </tr>\n  </tbody>\n</table>\n<p>2771 rows × 7 columns</p>\n</div>"
     },
     "execution_count": 6,
     "metadata": {},
     "output_type": "execute_result"
    }
   ],
   "source": [
    "df.columns=['age','gender','bmi','no_of_children','smoker','region','charges']\n",
    "df"
   ],
   "metadata": {
    "collapsed": false,
    "ExecuteTime": {
     "end_time": "2024-04-04T04:38:32.123778Z",
     "start_time": "2024-04-04T04:38:32.102060Z"
    }
   },
   "id": "d51052c67fde6b02",
   "execution_count": 6
  },
  {
   "cell_type": "markdown",
   "source": [
    "## Cleaning the dataset by eliminating the null values , as to make it ready to analyze and draw some regression plots. "
   ],
   "metadata": {
    "collapsed": false
   },
   "id": "6587272dcf0e4f8a"
  },
  {
   "cell_type": "code",
   "outputs": [
    {
     "data": {
      "text/plain": "     age  gender     bmi  no_of_children smoker  region      charges\n0     18       2  33.770               1      0       4   1725.55230\n1     28       2  33.000               3      0       4   4449.46200\n2     33       2  22.705               0      0       1  21984.47061\n3     32       2  28.880               0      0       1   3866.85520\n4     31       1  25.740               0    NaN       4   3756.62160\n...   ..     ...     ...             ...    ...     ...          ...\n2766  47       1  45.320               1      0       4   8569.86180\n2767  21       1  34.600               0      0       3   2020.17700\n2768  19       2  26.030               1      1       1  16450.89470\n2769  23       2  18.715               0      0       1  21595.38229\n2770  54       2  31.600               0      0       3   9850.43200\n\n[2771 rows x 7 columns]",
      "text/html": "<div>\n<style scoped>\n    .dataframe tbody tr th:only-of-type {\n        vertical-align: middle;\n    }\n\n    .dataframe tbody tr th {\n        vertical-align: top;\n    }\n\n    .dataframe thead th {\n        text-align: right;\n    }\n</style>\n<table border=\"1\" class=\"dataframe\">\n  <thead>\n    <tr style=\"text-align: right;\">\n      <th></th>\n      <th>age</th>\n      <th>gender</th>\n      <th>bmi</th>\n      <th>no_of_children</th>\n      <th>smoker</th>\n      <th>region</th>\n      <th>charges</th>\n    </tr>\n  </thead>\n  <tbody>\n    <tr>\n      <th>0</th>\n      <td>18</td>\n      <td>2</td>\n      <td>33.770</td>\n      <td>1</td>\n      <td>0</td>\n      <td>4</td>\n      <td>1725.55230</td>\n    </tr>\n    <tr>\n      <th>1</th>\n      <td>28</td>\n      <td>2</td>\n      <td>33.000</td>\n      <td>3</td>\n      <td>0</td>\n      <td>4</td>\n      <td>4449.46200</td>\n    </tr>\n    <tr>\n      <th>2</th>\n      <td>33</td>\n      <td>2</td>\n      <td>22.705</td>\n      <td>0</td>\n      <td>0</td>\n      <td>1</td>\n      <td>21984.47061</td>\n    </tr>\n    <tr>\n      <th>3</th>\n      <td>32</td>\n      <td>2</td>\n      <td>28.880</td>\n      <td>0</td>\n      <td>0</td>\n      <td>1</td>\n      <td>3866.85520</td>\n    </tr>\n    <tr>\n      <th>4</th>\n      <td>31</td>\n      <td>1</td>\n      <td>25.740</td>\n      <td>0</td>\n      <td>NaN</td>\n      <td>4</td>\n      <td>3756.62160</td>\n    </tr>\n    <tr>\n      <th>...</th>\n      <td>...</td>\n      <td>...</td>\n      <td>...</td>\n      <td>...</td>\n      <td>...</td>\n      <td>...</td>\n      <td>...</td>\n    </tr>\n    <tr>\n      <th>2766</th>\n      <td>47</td>\n      <td>1</td>\n      <td>45.320</td>\n      <td>1</td>\n      <td>0</td>\n      <td>4</td>\n      <td>8569.86180</td>\n    </tr>\n    <tr>\n      <th>2767</th>\n      <td>21</td>\n      <td>1</td>\n      <td>34.600</td>\n      <td>0</td>\n      <td>0</td>\n      <td>3</td>\n      <td>2020.17700</td>\n    </tr>\n    <tr>\n      <th>2768</th>\n      <td>19</td>\n      <td>2</td>\n      <td>26.030</td>\n      <td>1</td>\n      <td>1</td>\n      <td>1</td>\n      <td>16450.89470</td>\n    </tr>\n    <tr>\n      <th>2769</th>\n      <td>23</td>\n      <td>2</td>\n      <td>18.715</td>\n      <td>0</td>\n      <td>0</td>\n      <td>1</td>\n      <td>21595.38229</td>\n    </tr>\n    <tr>\n      <th>2770</th>\n      <td>54</td>\n      <td>2</td>\n      <td>31.600</td>\n      <td>0</td>\n      <td>0</td>\n      <td>3</td>\n      <td>9850.43200</td>\n    </tr>\n  </tbody>\n</table>\n<p>2771 rows × 7 columns</p>\n</div>"
     },
     "execution_count": 8,
     "metadata": {},
     "output_type": "execute_result"
    }
   ],
   "source": [
    "df.replace('?',np.nan,inplace=True)\n",
    "df"
   ],
   "metadata": {
    "collapsed": false,
    "ExecuteTime": {
     "end_time": "2024-04-04T04:40:24.251272Z",
     "start_time": "2024-04-04T04:40:24.230100Z"
    }
   },
   "id": "db13e0e24521ceae",
   "execution_count": 8
  },
  {
   "cell_type": "code",
   "outputs": [
    {
     "name": "stdout",
     "output_type": "stream",
     "text": [
      "<class 'pandas.core.frame.DataFrame'>\n",
      "RangeIndex: 2771 entries, 0 to 2770\n",
      "Data columns (total 7 columns):\n",
      " #   Column          Non-Null Count  Dtype  \n",
      "---  ------          --------------  -----  \n",
      " 0   age             2767 non-null   object \n",
      " 1   gender          2771 non-null   int64  \n",
      " 2   bmi             2771 non-null   float64\n",
      " 3   no_of_children  2771 non-null   int64  \n",
      " 4   smoker          2764 non-null   object \n",
      " 5   region          2771 non-null   int64  \n",
      " 6   charges         2771 non-null   float64\n",
      "dtypes: float64(2), int64(3), object(2)\n",
      "memory usage: 151.7+ KB\n"
     ]
    }
   ],
   "source": [
    "df.info()"
   ],
   "metadata": {
    "collapsed": false,
    "ExecuteTime": {
     "end_time": "2024-04-04T04:41:04.089450Z",
     "start_time": "2024-04-04T04:41:03.987178Z"
    }
   },
   "id": "82cef64bf39a8b9e",
   "execution_count": 10
  },
  {
   "cell_type": "code",
   "outputs": [
    {
     "name": "stdout",
     "output_type": "stream",
     "text": [
      "<class 'pandas.core.frame.DataFrame'>\n",
      "RangeIndex: 2771 entries, 0 to 2770\n",
      "Data columns (total 7 columns):\n",
      " #   Column          Non-Null Count  Dtype  \n",
      "---  ------          --------------  -----  \n",
      " 0   age             2771 non-null   object \n",
      " 1   gender          2771 non-null   int64  \n",
      " 2   bmi             2771 non-null   float64\n",
      " 3   no_of_children  2771 non-null   int64  \n",
      " 4   smoker          2764 non-null   object \n",
      " 5   region          2771 non-null   int64  \n",
      " 6   charges         2771 non-null   float64\n",
      "dtypes: float64(2), int64(3), object(2)\n",
      "memory usage: 151.7+ KB\n"
     ]
    }
   ],
   "source": [
    "most_freq=df['age'].value_counts().idxmax()\n",
    "df['age'].replace(np.nan,most_freq,inplace=True)\n",
    "df.info()"
   ],
   "metadata": {
    "collapsed": false,
    "ExecuteTime": {
     "end_time": "2024-04-04T04:52:35.393868Z",
     "start_time": "2024-04-04T04:52:35.374884Z"
    }
   },
   "id": "1a597489a3c5e8c4",
   "execution_count": 23
  },
  {
   "cell_type": "code",
   "outputs": [
    {
     "name": "stdout",
     "output_type": "stream",
     "text": [
      "<class 'pandas.core.frame.DataFrame'>\n",
      "RangeIndex: 2771 entries, 0 to 2770\n",
      "Data columns (total 7 columns):\n",
      " #   Column          Non-Null Count  Dtype  \n",
      "---  ------          --------------  -----  \n",
      " 0   age             2771 non-null   object \n",
      " 1   gender          2771 non-null   int64  \n",
      " 2   bmi             2771 non-null   float64\n",
      " 3   no_of_children  2771 non-null   int64  \n",
      " 4   smoker          2771 non-null   object \n",
      " 5   region          2771 non-null   int64  \n",
      " 6   charges         2771 non-null   float64\n",
      "dtypes: float64(2), int64(3), object(2)\n",
      "memory usage: 151.7+ KB\n"
     ]
    },
    {
     "name": "stderr",
     "output_type": "stream",
     "text": [
      "C:\\Users\\sitar\\AppData\\Local\\Temp\\ipykernel_76472\\3860356598.py:2: FutureWarning: A value is trying to be set on a copy of a DataFrame or Series through chained assignment using an inplace method.\n",
      "The behavior will change in pandas 3.0. This inplace method will never work because the intermediate object on which we are setting values always behaves as a copy.\n",
      "\n",
      "For example, when doing 'df[col].method(value, inplace=True)', try using 'df.method({col: value}, inplace=True)' or df[col] = df[col].method(value) instead, to perform the operation inplace on the original object.\n",
      "\n",
      "\n",
      "  df['smoker'].replace(np.nan,smoker_freq,inplace=True)\n"
     ]
    }
   ],
   "source": [
    "smoker_freq=df['smoker'].value_counts().idxmax()\n",
    "df['smoker'].replace(np.nan,smoker_freq,inplace=True)\n",
    "df.info()"
   ],
   "metadata": {
    "collapsed": false,
    "ExecuteTime": {
     "end_time": "2024-04-04T04:53:18.158081Z",
     "start_time": "2024-04-04T04:53:18.145915Z"
    }
   },
   "id": "b2e78d64972a87b1",
   "execution_count": 24
  },
  {
   "cell_type": "code",
   "outputs": [
    {
     "data": {
      "text/plain": "  age  gender     bmi  no_of_children smoker  region      charges\n0  18       2  33.770               1      0       4   1725.55230\n1  28       2  33.000               3      0       4   4449.46200\n2  33       2  22.705               0      0       1  21984.47061\n3  32       2  28.880               0      0       1   3866.85520\n4  31       1  25.740               0      0       4   3756.62160\n5  46       1  33.440               1      0       4   8240.58960\n6  37       1  27.740               3      0       1   7281.50560\n7  37       2  29.830               2      0       2   6406.41070\n8  60       1  25.840               0      0       1  28923.13692\n9  25       2  26.220               0      0       2   2721.32080",
      "text/html": "<div>\n<style scoped>\n    .dataframe tbody tr th:only-of-type {\n        vertical-align: middle;\n    }\n\n    .dataframe tbody tr th {\n        vertical-align: top;\n    }\n\n    .dataframe thead th {\n        text-align: right;\n    }\n</style>\n<table border=\"1\" class=\"dataframe\">\n  <thead>\n    <tr style=\"text-align: right;\">\n      <th></th>\n      <th>age</th>\n      <th>gender</th>\n      <th>bmi</th>\n      <th>no_of_children</th>\n      <th>smoker</th>\n      <th>region</th>\n      <th>charges</th>\n    </tr>\n  </thead>\n  <tbody>\n    <tr>\n      <th>0</th>\n      <td>18</td>\n      <td>2</td>\n      <td>33.770</td>\n      <td>1</td>\n      <td>0</td>\n      <td>4</td>\n      <td>1725.55230</td>\n    </tr>\n    <tr>\n      <th>1</th>\n      <td>28</td>\n      <td>2</td>\n      <td>33.000</td>\n      <td>3</td>\n      <td>0</td>\n      <td>4</td>\n      <td>4449.46200</td>\n    </tr>\n    <tr>\n      <th>2</th>\n      <td>33</td>\n      <td>2</td>\n      <td>22.705</td>\n      <td>0</td>\n      <td>0</td>\n      <td>1</td>\n      <td>21984.47061</td>\n    </tr>\n    <tr>\n      <th>3</th>\n      <td>32</td>\n      <td>2</td>\n      <td>28.880</td>\n      <td>0</td>\n      <td>0</td>\n      <td>1</td>\n      <td>3866.85520</td>\n    </tr>\n    <tr>\n      <th>4</th>\n      <td>31</td>\n      <td>1</td>\n      <td>25.740</td>\n      <td>0</td>\n      <td>0</td>\n      <td>4</td>\n      <td>3756.62160</td>\n    </tr>\n    <tr>\n      <th>5</th>\n      <td>46</td>\n      <td>1</td>\n      <td>33.440</td>\n      <td>1</td>\n      <td>0</td>\n      <td>4</td>\n      <td>8240.58960</td>\n    </tr>\n    <tr>\n      <th>6</th>\n      <td>37</td>\n      <td>1</td>\n      <td>27.740</td>\n      <td>3</td>\n      <td>0</td>\n      <td>1</td>\n      <td>7281.50560</td>\n    </tr>\n    <tr>\n      <th>7</th>\n      <td>37</td>\n      <td>2</td>\n      <td>29.830</td>\n      <td>2</td>\n      <td>0</td>\n      <td>2</td>\n      <td>6406.41070</td>\n    </tr>\n    <tr>\n      <th>8</th>\n      <td>60</td>\n      <td>1</td>\n      <td>25.840</td>\n      <td>0</td>\n      <td>0</td>\n      <td>1</td>\n      <td>28923.13692</td>\n    </tr>\n    <tr>\n      <th>9</th>\n      <td>25</td>\n      <td>2</td>\n      <td>26.220</td>\n      <td>0</td>\n      <td>0</td>\n      <td>2</td>\n      <td>2721.32080</td>\n    </tr>\n  </tbody>\n</table>\n</div>"
     },
     "execution_count": 27,
     "metadata": {},
     "output_type": "execute_result"
    }
   ],
   "source": [
    "mean_age=df['age'].astype(float).mean(axis=0)\n",
    "df['age'].replace(np.nan,mean_age,inplace=True)\n",
    "df.head(10)"
   ],
   "metadata": {
    "collapsed": false,
    "ExecuteTime": {
     "end_time": "2024-04-04T04:55:26.881202Z",
     "start_time": "2024-04-04T04:55:26.862447Z"
    }
   },
   "id": "79509d751b4c7e42",
   "execution_count": 27
  },
  {
   "cell_type": "markdown",
   "source": [
    "there are some values in the charges which are more than 2 decimal points, these may cause a problem later, lemme eliminate these by rounding off."
   ],
   "metadata": {
    "collapsed": false
   },
   "id": "fb09f95cd5cdb224"
  },
  {
   "cell_type": "code",
   "outputs": [
    {
     "data": {
      "text/plain": "  age  gender     bmi  no_of_children smoker  region   charges\n0  18       2  33.770               1      0       4   1725.55\n1  28       2  33.000               3      0       4   4449.46\n2  33       2  22.705               0      0       1  21984.47\n3  32       2  28.880               0      0       1   3866.86\n4  31       1  25.740               0      0       4   3756.62",
      "text/html": "<div>\n<style scoped>\n    .dataframe tbody tr th:only-of-type {\n        vertical-align: middle;\n    }\n\n    .dataframe tbody tr th {\n        vertical-align: top;\n    }\n\n    .dataframe thead th {\n        text-align: right;\n    }\n</style>\n<table border=\"1\" class=\"dataframe\">\n  <thead>\n    <tr style=\"text-align: right;\">\n      <th></th>\n      <th>age</th>\n      <th>gender</th>\n      <th>bmi</th>\n      <th>no_of_children</th>\n      <th>smoker</th>\n      <th>region</th>\n      <th>charges</th>\n    </tr>\n  </thead>\n  <tbody>\n    <tr>\n      <th>0</th>\n      <td>18</td>\n      <td>2</td>\n      <td>33.770</td>\n      <td>1</td>\n      <td>0</td>\n      <td>4</td>\n      <td>1725.55</td>\n    </tr>\n    <tr>\n      <th>1</th>\n      <td>28</td>\n      <td>2</td>\n      <td>33.000</td>\n      <td>3</td>\n      <td>0</td>\n      <td>4</td>\n      <td>4449.46</td>\n    </tr>\n    <tr>\n      <th>2</th>\n      <td>33</td>\n      <td>2</td>\n      <td>22.705</td>\n      <td>0</td>\n      <td>0</td>\n      <td>1</td>\n      <td>21984.47</td>\n    </tr>\n    <tr>\n      <th>3</th>\n      <td>32</td>\n      <td>2</td>\n      <td>28.880</td>\n      <td>0</td>\n      <td>0</td>\n      <td>1</td>\n      <td>3866.86</td>\n    </tr>\n    <tr>\n      <th>4</th>\n      <td>31</td>\n      <td>1</td>\n      <td>25.740</td>\n      <td>0</td>\n      <td>0</td>\n      <td>4</td>\n      <td>3756.62</td>\n    </tr>\n  </tbody>\n</table>\n</div>"
     },
     "execution_count": 28,
     "metadata": {},
     "output_type": "execute_result"
    }
   ],
   "source": [
    "df[['charges']]=np.round(df[['charges']],2)\n",
    "df.head()"
   ],
   "metadata": {
    "collapsed": false,
    "ExecuteTime": {
     "end_time": "2024-04-04T05:00:38.451811Z",
     "start_time": "2024-04-04T05:00:38.415062Z"
    }
   },
   "id": "711cefc432071076",
   "execution_count": 28
  },
  {
   "cell_type": "markdown",
   "source": [
    "now the charges are rounded off to 2 decimal points ,now that ends the data cleaning part, lemme get on with the data analysis \n"
   ],
   "metadata": {
    "collapsed": false
   },
   "id": "4f86868410af0b45"
  },
  {
   "cell_type": "markdown",
   "source": [
    "## The data analysis "
   ],
   "metadata": {
    "collapsed": false
   },
   "id": "6bbca51f917b9cf0"
  },
  {
   "cell_type": "code",
   "outputs": [
    {
     "data": {
      "text/plain": "(0.0, 54.9885)"
     },
     "execution_count": 42,
     "metadata": {},
     "output_type": "execute_result"
    },
    {
     "data": {
      "text/plain": "<Figure size 640x480 with 1 Axes>",
      "image/png": "[encoded data removed]"
     },
     "metadata": {},
     "output_type": "display_data"
    }
   ],
   "source": [
    "sns.regplot(x=df['charges'],y=df['bmi'],data=df,line_kws={'color':'yellow'})\n",
    "plt.ylim(0,)"
   ],
   "metadata": {
    "collapsed": false,
    "ExecuteTime": {
     "end_time": "2024-04-04T05:10:29.123955Z",
     "start_time": "2024-04-04T05:10:28.757001Z"
    }
   },
   "id": "81237b106d112b0c",
   "execution_count": 42
  },
  {
   "cell_type": "code",
   "outputs": [
    {
     "data": {
      "text/plain": "<Axes: xlabel='charges', ylabel='bmi'>"
     },
     "execution_count": 45,
     "metadata": {},
     "output_type": "execute_result"
    },
    {
     "data": {
      "text/plain": "<Figure size 640x480 with 1 Axes>",
      "image/png": "[encoded data removed]"
     },
     "metadata": {},
     "output_type": "display_data"
    }
   ],
   "source": [
    "sns.boxplot(x='charges',y='bmi',data=df)"
   ],
   "metadata": {
    "collapsed": false,
    "ExecuteTime": {
     "end_time": "2024-04-04T05:12:26.532380Z",
     "start_time": "2024-04-04T05:12:10.571454Z"
    }
   },
   "id": "3464c6288c0b72",
   "execution_count": 45
  },
  {
   "cell_type": "code",
   "outputs": [
    {
     "data": {
      "text/plain": "                     age    gender       bmi  no_of_children    smoker  \\\nage             1.000000 -0.015875  0.076344       -0.077067 -0.008019   \ngender         -0.015875  1.000000  0.042766        0.015693  0.083125   \nbmi             0.076344  0.042766  1.000000       -0.001642  0.011824   \nno_of_children -0.077067  0.015693 -0.001642        1.000000  0.007016   \nsmoker         -0.008019  0.083125  0.011824        0.007016  1.000000   \nregion          0.008761  0.022360  0.271200       -0.025594  0.053839   \ncharges         0.245121  0.062959  0.199906        0.066551  0.789141   \n\n                  region   charges  \nage             0.008761  0.245121  \ngender          0.022360  0.062959  \nbmi             0.271200  0.199906  \nno_of_children -0.025594  0.066551  \nsmoker          0.053839  0.789141  \nregion          1.000000  0.054018  \ncharges         0.054018  1.000000  ",
      "text/html": "<div>\n<style scoped>\n    .dataframe tbody tr th:only-of-type {\n        vertical-align: middle;\n    }\n\n    .dataframe tbody tr th {\n        vertical-align: top;\n    }\n\n    .dataframe thead th {\n        text-align: right;\n    }\n</style>\n<table border=\"1\" class=\"dataframe\">\n  <thead>\n    <tr style=\"text-align: right;\">\n      <th></th>\n      <th>age</th>\n      <th>gender</th>\n      <th>bmi</th>\n      <th>no_of_children</th>\n      <th>smoker</th>\n      <th>region</th>\n      <th>charges</th>\n    </tr>\n  </thead>\n  <tbody>\n    <tr>\n      <th>age</th>\n      <td>1.000000</td>\n      <td>-0.015875</td>\n      <td>0.076344</td>\n      <td>-0.077067</td>\n      <td>-0.008019</td>\n      <td>0.008761</td>\n      <td>0.245121</td>\n    </tr>\n    <tr>\n      <th>gender</th>\n      <td>-0.015875</td>\n      <td>1.000000</td>\n      <td>0.042766</td>\n      <td>0.015693</td>\n      <td>0.083125</td>\n      <td>0.022360</td>\n      <td>0.062959</td>\n    </tr>\n    <tr>\n      <th>bmi</th>\n      <td>0.076344</td>\n      <td>0.042766</td>\n      <td>1.000000</td>\n      <td>-0.001642</td>\n      <td>0.011824</td>\n      <td>0.271200</td>\n      <td>0.199906</td>\n    </tr>\n    <tr>\n      <th>no_of_children</th>\n      <td>-0.077067</td>\n      <td>0.015693</td>\n      <td>-0.001642</td>\n      <td>1.000000</td>\n      <td>0.007016</td>\n      <td>-0.025594</td>\n      <td>0.066551</td>\n    </tr>\n    <tr>\n      <th>smoker</th>\n      <td>-0.008019</td>\n      <td>0.083125</td>\n      <td>0.011824</td>\n      <td>0.007016</td>\n      <td>1.000000</td>\n      <td>0.053839</td>\n      <td>0.789141</td>\n    </tr>\n    <tr>\n      <th>region</th>\n      <td>0.008761</td>\n      <td>0.022360</td>\n      <td>0.271200</td>\n      <td>-0.025594</td>\n      <td>0.053839</td>\n      <td>1.000000</td>\n      <td>0.054018</td>\n    </tr>\n    <tr>\n      <th>charges</th>\n      <td>0.245121</td>\n      <td>0.062959</td>\n      <td>0.199906</td>\n      <td>0.066551</td>\n      <td>0.789141</td>\n      <td>0.054018</td>\n      <td>1.000000</td>\n    </tr>\n  </tbody>\n</table>\n</div>"
     },
     "execution_count": 46,
     "metadata": {},
     "output_type": "execute_result"
    }
   ],
   "source": [
    "df.corr()"
   ],
   "metadata": {
    "collapsed": false,
    "ExecuteTime": {
     "end_time": "2024-04-04T05:15:12.083972Z",
     "start_time": "2024-04-04T05:15:10.611710Z"
    }
   },
   "id": "5a6eca6a5a984a8b",
   "execution_count": 46
  },
  {
   "cell_type": "code",
   "outputs": [
    {
     "name": "stdout",
     "output_type": "stream",
     "text": [
      "8417.87439311597\n",
      "[23832.50915928]\n",
      "0.6227430402464125\n"
     ]
    }
   ],
   "source": [
    "lr=LinearRegression()\n",
    "lr.fit(df[['smoker']],df['charges'])\n",
    "print(lr.intercept_)\n",
    "print(lr.coef_)\n",
    "print(lr.score(df[['smoker']],df['charges']))\n",
    "\n"
   ],
   "metadata": {
    "collapsed": false,
    "ExecuteTime": {
     "end_time": "2024-04-04T05:40:05.851135Z",
     "start_time": "2024-04-04T05:40:05.821243Z"
    }
   },
   "id": "901b19b7519e38b8",
   "execution_count": 53
  },
  {
   "cell_type": "code",
   "outputs": [
    {
     "name": "stdout",
     "output_type": "stream",
     "text": [
      "-11908.547945737175\n",
      "[23871.67096497   228.40509469   361.62390187   791.65672471\n",
      "  -409.63741611]\n",
      "0.7232380380037843\n"
     ]
    }
   ],
   "source": [
    "y=df[['smoker','age','bmi','no_of_children','region']]\n",
    "lr.fit(y,df['charges'])\n",
    "print(lr.intercept_)\n",
    "print(lr.coef_)\n",
    "print(lr.score(y,df['charges']))\n"
   ],
   "metadata": {
    "collapsed": false,
    "ExecuteTime": {
     "end_time": "2024-04-04T05:43:23.467117Z",
     "start_time": "2024-04-04T05:43:23.428058Z"
    }
   },
   "id": "bac18926b74ac32e",
   "execution_count": 58
  },
  {
   "cell_type": "code",
   "outputs": [
    {
     "name": "stdout",
     "output_type": "stream",
     "text": [
      "0.816901307997979\n"
     ]
    }
   ],
   "source": [
    "from sklearn.metrics import r2_score\n",
    "from sklearn.preprocessing  import StandardScaler,PolynomialFeatures\n",
    "from sklearn.pipeline import Pipeline\n",
    "inp=[('scale',StandardScaler()),('poly',PolynomialFeatures(include_bias=False)),('model',LinearRegression())]\n",
    "pipe=Pipeline(inp)\n",
    "y=y.astype(float)\n",
    "pipe.fit(y,df['charges'])\n",
    "ypipe=pipe.predict(y)\n",
    "print(r2_score(df['charges'],ypipe))"
   ],
   "metadata": {
    "collapsed": false,
    "ExecuteTime": {
     "end_time": "2024-04-04T05:55:29.145167Z",
     "start_time": "2024-04-04T05:55:28.983052Z"
    }
   },
   "id": "9b9f8d69084fb208",
   "execution_count": 61
  },
  {
   "cell_type": "code",
   "outputs": [],
   "source": [
    "z=df['charges']"
   ],
   "metadata": {
    "collapsed": false,
    "ExecuteTime": {
     "end_time": "2024-04-04T05:56:53.961561Z",
     "start_time": "2024-04-04T05:56:53.936357Z"
    }
   },
   "id": "5d7f879399f00c79",
   "execution_count": 62
  },
  {
   "cell_type": "code",
   "outputs": [
    {
     "name": "stdout",
     "output_type": "stream",
     "text": [
      "0.6951352703962226\n"
     ]
    }
   ],
   "source": [
    "from sklearn.model_selection import train_test_split\n",
    "x_train,x_test,y_train,y_test=train_test_split(y,z,test_size=0.2,random_state=1)\n",
    "Ridge_model=Ridge(alpha=0.1)\n",
    "Ridge_model.fit(x_train,y_train)\n",
    "yhat=Ridge_model.predict(x_test)\n",
    "print(r2_score(y_test,yhat))\n"
   ],
   "metadata": {
    "collapsed": false,
    "ExecuteTime": {
     "end_time": "2024-04-04T06:03:08.643446Z",
     "start_time": "2024-04-04T06:03:08.618577Z"
    }
   },
   "id": "8b0d00623e449e34",
   "execution_count": 65
  },
  {
   "cell_type": "code",
   "outputs": [
    {
     "name": "stdout",
     "output_type": "stream",
     "text": [
      "0.7950472183475413\n"
     ]
    }
   ],
   "source": [
    "pr=PolynomialFeatures(degree=2)\n",
    "x_train_pr=pr.fit_transform(x_train)\n",
    "x_test_pr=pr.fit_transform(x_test)\n",
    "Ridge_model.fit(x_train_pr,y_train)\n",
    "y_hat=Ridge_model.predict(x_test_pr)\n",
    "print(r2_score(y_test,y_hat))\n"
   ],
   "metadata": {
    "collapsed": false,
    "ExecuteTime": {
     "end_time": "2024-04-04T06:05:36.140849Z",
     "start_time": "2024-04-04T06:05:36.098416Z"
    }
   },
   "id": "535bfc528045b835",
   "execution_count": 67
  }
 ],
 "metadata": {
  "kernelspec": {
   "display_name": "Python 3",
   "language": "python",
   "name": "python3"
  },
  "language_info": {
   "codemirror_mode": {
    "name": "ipython",
    "version": 2
   },
   "file_extension": ".py",
   "mimetype": "text/x-python",
   "name": "python",
   "nbconvert_exporter": "python",
   "pygments_lexer": "ipython2",
   "version": "2.7.6"
  }
 },
 "nbformat": 4,
 "nbformat_minor": 5
}
